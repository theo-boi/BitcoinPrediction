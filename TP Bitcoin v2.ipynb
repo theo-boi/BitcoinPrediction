{
 "cells": [
  {
   "cell_type": "markdown",
   "metadata": {
    "collapsed": false,
    "pycharm": {
     "name": "#%% md\n"
    }
   },
   "source": [
    "# Binôme : EZRA Seunkam et BOISSEAU Théo"
   ]
  },
  {
   "cell_type": "markdown",
   "metadata": {
    "pycharm": {
     "name": "#%% md\n"
    }
   },
   "source": [
    "## Définition du sujet\n",
    "\n",
    "### Le cours du Bitcoin\n",
    "\n",
    "Dans les fichiers Cotations2021.csv et Cotations2020.csv se trouvent l'évolution journalière du cours du Bitcoin en 2021 et en 2020. Ces fichiers contiennent 5 colonnes :\n",
    " - Date : jour de la cotation,\n",
    " - Ouverture : valeur en euros du cours du Bitcoin à l'ouverture du marché,\n",
    " - Plus Haut : valeur en euros la plus élevée du Bitcoin durant le jour considéré,\n",
    " - Plus Bas : valeur en euros la plus basse du Bitcoin durant le jour considéré,\n",
    " - Clôture : valeur en euros du cours du Bitcoin à la clôture du marché.\n",
    "\n",
    "La notion de \"cours du Bitcoin\" est assez vague : finalement, on se pose vraiment la question de savoir combien vaut le Bitcoin au moment où on doit en acheter ou en vendre... Pour simplifier un peu, nous considérerons que d'un jour $t$ à un jour $(t+1)$ le cours du Bitcoin augmente (diminue) si sa valeur à la clôture au jour $t$ est inférieure (supérieure) à sa valeur à la clôture au jour $(t+1)$. \n",
    "\n",
    "Autrement dit, on va regarder la colonne \"Clôture\" pour décider de l'augmentation ou la baisse du cours du Bitcoin. \n",
    "\n",
    "### Enoncé du problème de classification\n",
    "\n",
    "Le problème que nous avons à résoudre est donc un problème de classification : pour un jour $t$ donné, nous voulons prédire si à $(t+1)$ le cours va augmenter (classe 1) ou diminuer (classe 2). Le cas, marginal, ou le cours reste constant sera assimilé à la classe 2.\n",
    "\n",
    "Pour réaliser cette prédiction, nous pouvons prendre en compte l'historique du cours sur les $h$ derniers jours. Quelle valeur de $h$ considérer ? Quelle(s) donnée(s) considérer sur les jours précédents : uniquement la valeur de clôture ou ... ?\n",
    "\n",
    "### Démarche\n",
    "\n",
    "1. Définir la notion d'historique : quel vecteur de données allons nous prendre en compte pour l'apprentissage et la prédiction ensuite ? Notons $\\vec v$ ce vecteur.\n",
    "1. Définir le problème d'optimisation à résoudre (fonction $H(\\vec v)$ de séparation des données, fonction d'activation (sigmoide), fonction de perte/erreur),\n",
    "2. Définir le gradient,\n",
    "3. Créer notre algorithme de descente,\n"
   ]
  },
  {
   "cell_type": "markdown",
   "metadata": {
    "pycharm": {
     "name": "#%% md\n"
    }
   },
   "source": [
    "## Développement de notre algorithme de descente\n",
    "\n",
    "### Outils\n",
    "- La bibliothèque [pandas](https://pandas.pydata.org/docs/user_guide/index.html) est idéale pour l'utilisation d'une base de donnée.\n",
    "- La bibliothèque [numpy](https://numpy.org/doc/1.18/user/index.html) est parfaite pour tout calcul sur des vecteurs.\n",
    "- La bibliothèque [matplotlib](https://matplotlib.org/contents.html) est la base pour visualiser des résultats mais accouplé à [seaborn](https://seaborn.pydata.org/index.html) il est possible d'aller plus vite.\n",
    "- Le bibliothèque [math](https://docs.python.org/fr/3.9/library/math.html) est souvent oubliée tellement elle semble évidente."
   ]
  },
  {
   "cell_type": "code",
   "execution_count": 939,
   "metadata": {
    "pycharm": {
     "name": "#%%\n"
    }
   },
   "outputs": [],
   "source": [
    "import pandas as pd\n",
    "import numpy as np\n",
    "import matplotlib.pyplot as plt\n",
    "import seaborn as sb\n",
    "import math\n",
    "import random as rd"
   ]
  },
  {
   "cell_type": "markdown",
   "metadata": {
    "pycharm": {
     "name": "#%% md\n"
    }
   },
   "source": [
    "### Lecture des données\n",
    "\n",
    "La première tâche à réaliser va être de développer une fonction qui va lire un fichhier .csv contenant un historique de cotations et créer une base panda. La structure $RawData$ va contenir les données telles que contenues dans le fichier .csv passé en paramètre (selon la syntaxe décrite précédemment). De même, $RawC$ va contenir l'appartenance aux classes 1 (diminution) / 0 (augmentation)."
   ]
  },
  {
   "cell_type": "code",
   "execution_count": 940,
   "metadata": {
    "pycharm": {
     "name": "#%%\n"
    }
   },
   "outputs": [],
   "source": [
    "#Input: nom du fichier .csv à lire.\n",
    "#Nécessite :les lignes du fichier sont classées par dates de cotatation croissantes et les colonnées séparées par \";\"\n",
    "#Output: RawData, contient l'historique des cotations telles que lues dans le .csv\n",
    "#        RawC, contient pour chaque ligne/date t (sauf la dernière) 1 si le cours baisse à t+1; 0 sinon.\n",
    "def LireDonnees(NomFichier):\n",
    "    #Lecture des données dans le fichier csv\n",
    "    RawData=pd.read_csv(NomFichier, sep=';')\n",
    "    \n",
    "    #Construction des classes d'appartenance de chaque ligne de la base: on suppose que les cotations journalières sont\n",
    "    #classées par ordre chronologique\n",
    "    RawC=[]\n",
    "    for index in range(len(RawData)-1):\n",
    "        value=RawData.iloc[index,4] > RawData.iloc[index+1,4]\n",
    "        value=1*value\n",
    "        RawC.append(value)\n",
    "    return RawData, RawC\n",
    "    "
   ]
  },
  {
   "cell_type": "markdown",
   "metadata": {
    "pycharm": {
     "name": "#%% md\n"
    }
   },
   "source": [
    "### Définition des données utilisées pour l'apprentissage/prédiction\n",
    "\n",
    "Nous allons maintenant définir une méthode qui va préparer une structure de données, nommée $data$, qui va contenir pour chaque ligne un couple :\n",
    "\n",
    "$\\vec v=(\\vec x ; c_x)$\n",
    "\n",
    "où $\\vec x$ est le vecteur caractérisant la ligne en cours. Par exemple, pour la ligne $t$, date de cotation $t$, ce qui explique la prédiction $c$ (baisse/augmentation de la valeur de la cotation à $t+1$) c'est le cours du Bitcoin à la clôture sur les $h=3$ derniers jours. Donc, la ligne d'indice 0 dans $data$ va contenir :\n",
    "\n",
    "$(x_1,x_2,x_3, c_x=0$ ou $1)$ \n",
    "\n",
    "avec $x_j$ la valeur de cotation à la clôture le jour $j$.\n"
   ]
  },
  {
   "cell_type": "code",
   "execution_count": 941,
   "metadata": {
    "pycharm": {
     "name": "#%%\n"
    }
   },
   "outputs": [],
   "source": [
    "def EquilibrerData(RawData,RawC):\n",
    "    # On crée un nouveau dataset équilibré\n",
    "    RawDataEquilibre = RawData.copy()\n",
    "    RawCEquilibre = RawC.copy()\n",
    "\n",
    "    Cdf = pd.DataFrame(RawC)\n",
    "    zero = Cdf.loc[Cdf[0] == 0] # On identifie les 0 de RawC\n",
    "    un = Cdf.loc[Cdf[0] == 1] # On identifie les 1 de RawC\n",
    "\n",
    "    # On cible les lignes du dataset qu'il faut enlever pour avoir autant de 0 que de 1\n",
    "    indexASupprimer = []\n",
    "    if len(zero) > len(un):\n",
    "        indexASupprimer = zero.sample(n=len(zero.index) - len(un.index)).index.tolist()\n",
    "    if len(un) > len(zero):\n",
    "        indexASupprimer = un.sample(n=len(un.index) - len(zero.index)).index.tolist()\n",
    "\n",
    "    # On effectue la suppression\n",
    "    if indexASupprimer != []:\n",
    "        indexASupprimer.sort()\n",
    "        RawDataEquilibre.drop(index=indexASupprimer, inplace=True)\n",
    "        RawDataEquilibre.reset_index(drop=True, inplace=True)\n",
    "        for iterateur in range(len(indexASupprimer)):\n",
    "            RawCEquilibre.pop(indexASupprimer[iterateur] - iterateur)\n",
    "\n",
    "    return RawDataEquilibre, RawCEquilibre"
   ]
  },
  {
   "cell_type": "code",
   "execution_count": 942,
   "metadata": {
    "collapsed": false,
    "pycharm": {
     "name": "#%%\n"
    }
   },
   "outputs": [],
   "source": [
    "#Input: RawData et RawC ont été créés à partir d'un fichier .csv\n",
    "#Output: D, contient les points $(\\vec x)$. Cela doit être une matrice numpy\n",
    "#        C, contient la classe d'appartenance $c_x$ de chaque entrée dans data. Cela doit être un vecteur numpy\n",
    "def CreerData(RawData,RawC):\n",
    "    (RawDataEquilibre,RawCEquilibre) = EquilibrerData(RawData,RawC) # On équilibre le dataset pour avoir autant de 0 que de 1\n",
    "\n",
    "    h = 6\n",
    "    pas = 3\n",
    "    variables = (\"Ouverture\", \"Plus Haut\", \"Plus Bas\", \"Cloture\") # On sélectionne les variables désirées\n",
    "    std = RawDataEquilibre.std(axis=1,numeric_only=True) # On calcule l'écart type à chaque date\n",
    "    moy = RawDataEquilibre.mean(axis=1,numeric_only=True)  # On calcule l'espérance à chaque date\n",
    "\n",
    "    nbDates = len(RawDataEquilibre.index) - h*pas\n",
    "    D = np.empty((nbDates, h*len(variables)))\n",
    "    for t in range(nbDates): # On va instancier chaque vecteur x\n",
    "        for p in range(h): # En écrivant le point x_(t+p)\n",
    "            for pVar in range(len(variables)): # et pour chacun, chacune de ses variables\n",
    "                # On normalise de façon à centrer normer chaque donnée d'un même jour.\n",
    "                D[t][pVar + p*len(variables)] = (RawDataEquilibre[variables[pVar]][t+p*pas] - moy[t+p*pas]) / std[t+p*pas]\n",
    "    if -h*(pas-1) != 0 :\n",
    "        C = np.array(RawCEquilibre)[h-1:-h*(pas-1)]\n",
    "    else:\n",
    "        C = np.array(RawCEquilibre)[h-1:]\n",
    "\n",
    "    return(D,C)\n",
    "\n",
    "(RawData,RawC)=LireDonnees(\"Cotations2020.csv\")\n",
    "(D,C)=CreerData(RawData,RawC)"
   ]
  },
  {
   "cell_type": "markdown",
   "metadata": {
    "pycharm": {
     "name": "#%% md\n"
    }
   },
   "source": [
    "### Définition du problème d'optimisation à résoudre\n",
    "\n",
    "On a choisi\n",
    "$\\vec v=(\\vec x ; c_x) \\in R ^{ 4h +1}, \\ avec \\ \\forall i \\in \\{1..h\\}, \\ \\vec x_i \\in R^4$ étant l'ensemble des valeurs des variables sélectionnées du point $\\vec x_i$\n",
    "\n",
    "$H(\\vec v) = \\displaystyle\\sum_{i=1}^{h} \\vec w_i \\cdot \\vec x_i + b, \\ avec \\ h = 3 \\ et \\ \\forall i \\in \\{1..h\\}, \\ \\vec w_i \\in R^4$\n",
    "\n",
    "D'où $H(\\vec v) = \\vec w_1 \\cdot \\vec x_1 + \\vec w_2 \\cdot \\vec x_2 + \\vec w_3 \\cdot \\vec x_3 + b$\n",
    "\n",
    "On concatennera les $\\vec x$ pour chaque $\\vec v$ dans la matrice D, les $c_x$ seront stockés dans le vecteur colonne C, et on concatennera les $\\vec w_i$ dans le vecteur weights.\n",
    "\n",
    "On va utiliser la fonction logistique sigmoide pour transformer les valeurs de $H(\\vec v)$ en valeurs $0$ ou $1$:\n",
    "\n",
    "$\\mathcal{S}: x \\mapsto \\frac{1}{1+\\exp^{-\\lambda x}}$.\n",
    "\n",
    "Notre classificateur est donc : $\\mathcal{S}(H(\\vec v))$.\n",
    "\n",
    "Pour notre problème, on cherche à apprendre sur la base d'apprentissage les valeurs de $\\vec w_i \\ \\forall i \\in \\{1..h\\}$ et $b$.\n",
    "\n",
    "On choisit la cross-entropy pour mesurer l'erreur de notre problème, c'est à dire la distance entre $\\mathcal{S}(H(\\vec v))$ et $c_{\\vec v}$ :\n",
    "\n",
    "$E(\\mathcal{P}) = \\sum \\limits_{\\vec v \\in \\mathcal{P}}-(c_{\\vec v}\\log_2(\\mathcal{S}(H(\\vec v)))+(1-c_{\\vec v})\\log_2(1-\\mathcal{S}(H(\\vec v))))$.\n",
    "\n",
    "$\\mathcal{P} : \\Bigg\\{$\n",
    "$\\  Minimiser \\ E(P)$\n",
    "$\\ \\ s.c.$\n",
    "$\\ \\ \\vec w_i \\in R^4 \\ et \\ b \\in R$\n",
    "$\\Bigg\\}$\n",
    "\n",
    "Commençons par définir le code qui calcule $H(\\vec v)$ puis le code de la fonction logistique sigmoid $\\cal{S}(x)$. Je suppose que vous allez reprendre les mêmes fonctions que dans le TP introductif, mais si vous voulez changer vous pouvez, bien sûr ! "
   ]
  },
  {
   "cell_type": "code",
   "execution_count": 943,
   "metadata": {
    "pycharm": {
     "name": "#%%\n"
    }
   },
   "outputs": [],
   "source": [
    "# définition de la méthode pour calculer H(v)\n",
    "def H(weights, constant, point):\n",
    "    value=np.sum(weights*point)+constant\n",
    "    return value"
   ]
  },
  {
   "cell_type": "markdown",
   "metadata": {
    "pycharm": {
     "name": "#%% md\n"
    }
   },
   "source": [
    "Définissons maintenant le code qui calcule $\\mathcal{S}(x)$."
   ]
  },
  {
   "cell_type": "code",
   "execution_count": 944,
   "metadata": {
    "pycharm": {
     "name": "#%%\n"
    }
   },
   "outputs": [],
   "source": [
    "# définition de la fonction sigmoide (logistique) et la fonction d'arrondie\n",
    "def Sigmoid(x, lamda=0.001):\n",
    "        return 1/(1+np.exp(-lamda*x))\n",
    "\n",
    "\n",
    "def Step_function(x):\n",
    "        return 1*(x>=0)"
   ]
  },
  {
   "cell_type": "markdown",
   "metadata": {
    "pycharm": {
     "name": "#%% md\n"
    }
   },
   "source": [
    "Passons maintenant à la définition de la fonction d'erreur $E(\\mathcal{P})$, qui est notre fonction à minimiser, ainsi que du gradient."
   ]
  },
  {
   "cell_type": "code",
   "execution_count": 945,
   "metadata": {
    "pycharm": {
     "name": "#%%\n"
    }
   },
   "outputs": [],
   "source": [
    "# définition de la méthode pour calculer l'erreur \n",
    "#Input : weights, le vecteur de poids utilisés dans la fonction H,\n",
    "#        constant, la constante utilisée dans la fonction H\n",
    "#Output : une valeur numérique, l'erreur commise. \n",
    "def Loss_function(weights, constant):\n",
    "    loss_value = 0\n",
    "    for index in range(len(D)):\n",
    "        p = D[index:index+1,:]\n",
    "        c = C[index]\n",
    "        loss_value -= c*np.log2(Sigmoid(H(weights, constant, p)))+(1-c)*np.log2(1-Sigmoid(H(weights, constant, p)))\n",
    "    return loss_value"
   ]
  },
  {
   "cell_type": "code",
   "execution_count": 946,
   "metadata": {
    "pycharm": {
     "name": "#%%\n"
    }
   },
   "outputs": [],
   "source": [
    "# définition du calcul de gradient\n",
    "#Input : weights, le vecteur de poids utilisés dans la fonction H,\n",
    "#        constant, la constante utilisée dans la fonction H\n",
    "#Output : le gradient, un numpy array\n",
    "def Gradient(weights, constant):\n",
    "    grad = []\n",
    "    # Looping over all variables (number of variables=number of weights)\n",
    "    for w in range(len(weights)):\n",
    "        coord_value=0\n",
    "        for index in range(len(D)):\n",
    "            x=D[index:index+1,:]\n",
    "            coord_value-= x[0,w]*(C[index]-Sigmoid(H(weights, constant, x)))\n",
    "        grad.append(coord_value)\n",
    "    coord_value=0\n",
    "    # Considering the last component=constant\n",
    "    for index in range(len(D)):\n",
    "        x=D[index:index+1,:]\n",
    "        coord_value-= (C[index]-Sigmoid(H(weights, constant, x)))\n",
    "    grad.append(coord_value)\n",
    "    return np.array(grad)"
   ]
  },
  {
   "cell_type": "markdown",
   "metadata": {
    "pycharm": {
     "name": "#%% md\n"
    }
   },
   "source": [
    "### Algorithme de descente\n",
    "\n",
    "Avant de procéder à l'apprentissage, nous avons dans un premier temps équilibré la base (pour avoir autant de \"0\" que de \"1\"), puis centré et réduit les données date par date, sinon l'algorithme prédisait 100% de zéros ou 100% d’uns. En ayant testé plusieurs combinations de h (la fenêtre de jours) et de p (le pas entre les jours), on a trouvé que **h = 6** jours (à peu près 1 semaine) et **pas = 3** jours marchaient le mieux.  En prenant les h=3 derniers jours comme c’était le cas au début, on n’avait pas beaucoup d’information sur la période dans laquelle le jour à prédire était situé.\n",
    "\n",
    "Avec cette base d’apprentissage, et en prenant **1000 itérations** et un **Learning rate de 1.2**, on obtient de meilleurs résultats. Après la normalisation des données, on a remarqué que le pas était devenu trop petit à cause du gradient qui avait beaucoup diminué, donc on a choisi un Learning rate beaucoup plus grand pour l’augmenter. En dessous de 1000 itérations, on n’apprend pas suffisamment et donc l’erreur est encore élevée, et au-delà de ça, l’algorithme ne peut pas très bien se généraliser pour prédire sur une nouvelle base.\n",
    "\n",
    "Enfin, avoir un **lamda de 0.001** par rapport à la norme de notre gradient nous permet d'avoir des valeurs de la sigmoide proches de 0.5. Cela permet de faire évoluer les poids plus facilement lors du calcul du gradient et de mieux estimer l'erreur, ce qui permet également d'améliorer les prédictions.\n"
   ]
  },
  {
   "cell_type": "code",
   "execution_count": null,
   "metadata": {
    "pycharm": {
     "name": "#%%\n",
     "is_executing": true
    }
   },
   "outputs": [],
   "source": [
    "# L'algorithme de gradient qui va travailler à partir des structures numpy D et C\n",
    "# Input :\n",
    "# Nécessite :\n",
    "# Output : weights, un numpy array contenant les poids utilisés dans la fonction de séparation H \n",
    "#          constant, un numérique contenant la constante utilisée dans la fonction de séparation H\n",
    "#          nbstep, nombre d'itérations mises par l'algorithme avant de s'arrêter\n",
    "\n",
    "def Algorithme_Gradient():\n",
    "    \n",
    "   #Initialisations pour les graphiques terminaux: à conserver\n",
    "    ## Produire deux graphes cote à cote 2 subplots\n",
    "    fig, ax = plt.subplots(figsize=(10, 5) , nrows=1, ncols=1)\n",
    "    ## Pour visualiser les evolutions en fonction du step\n",
    "    itersteps = []\n",
    "    ## Pour visualiser l'evolution de la norme du gradient\n",
    "    iterGap = []\n",
    "    ## Pour visualiser l'évolution de l'erreur\n",
    "    iterError = []\n",
    "    ## Pour visualiser la séparation linéaire\n",
    "    #line_X = np.array([min(data[\"x\"]), max(data[\"x\"])])\n",
    "    \n",
    "    #Initialisation de l'algorithme du gradient \n",
    "    ## initialise les poids et la constante\n",
    "    weights = np.random.random(np.shape(D)[1])\n",
    "    constant = rd.random()\n",
    "    ## initialise le pas d'optimisation\n",
    "    learning_rate = 1.2\n",
    "    #Initialisation du pas d'itération\n",
    "    nbstep = 1000\n",
    "    step = 1 # numéro d'itération dans l'algorithme\n",
    "\n",
    "    # Exécution de l'algorithme de gradient\n",
    "    while step < nbstep:\n",
    "        \n",
    "        # Calcul de la fonction de perte/erreur\n",
    "        E = Loss_function(weights,constant)\n",
    "\n",
    "        # Calcul du gradient et de sa norme\n",
    "        total_grad = Gradient(weights,constant)\n",
    "\n",
    "        norm = np.linalg.norm(total_grad)\n",
    "        # Mise à jour des poids et de la constante\n",
    "        weights-=(learning_rate*total_grad[:-1])/norm\n",
    "        constant-=learning_rate*total_grad[-1]/norm\n",
    "\n",
    "        # Stockage de valeurs à cette itération pour affichage final\n",
    "        itersteps.append(step - 1)\n",
    "        iterGap.append(norm)\n",
    "        iterError.append(E)\n",
    "            \n",
    "        step += 1\n",
    "\n",
    "    # Affichage final : à conserver\n",
    "    ax.plot(itersteps,iterGap, label='Norme du gradient')\n",
    "    ax.plot(itersteps,iterError, label='Erreur')\n",
    "    ax.set_xlabel('step')\n",
    "    ax.legend()\n",
    "    plt.show()\n",
    "    \n",
    "    return(weights,constant,nbstep)\n"
   ]
  },
  {
   "cell_type": "markdown",
   "metadata": {
    "pycharm": {
     "name": "#%% md\n"
    }
   },
   "source": [
    "## Phase d'apprentissage \n",
    "\n",
    "* La fonction LireDonnees() doit être appelée pour lire des données brutes dans un fichier .csv qui est notre base d'apprentissage,\n",
    "* La fonction CréerData() doit être appelée pour créer les structures $D$ et $C$ qui sont utilisées par notre algorithme de gradient,\n",
    "* L'algorithme de gradient."
   ]
  },
  {
   "cell_type": "code",
   "execution_count": 948,
   "metadata": {
    "pycharm": {
     "name": "#%%\n"
    }
   },
   "outputs": [
    {
     "data": {
      "image/png": "[encoded data removed]",
      "text/plain": [
       "<Figure size 720x360 with 1 Axes>"
      ]
     },
     "metadata": {
      "needs_background": "light"
     },
     "output_type": "display_data"
    }
   ],
   "source": [
    "(RawData,RawC)=LireDonnees(\"Cotations2021.csv\")\n",
    "(D,C)=CreerData(RawData,RawC)\n",
    "(weights,constant, nbstep)=Algorithme_Gradient()"
   ]
  },
  {
   "cell_type": "markdown",
   "metadata": {
    "pycharm": {
     "name": "#%% md\n"
    }
   },
   "source": [
    "## Construction du prédicteur"
   ]
  },
  {
   "cell_type": "code",
   "execution_count": 949,
   "metadata": {
    "pycharm": {
     "name": "#%%\n"
    }
   },
   "outputs": [],
   "source": [
    "# Input: weights, les poids appris pendant l'apprentissage\n",
    "#       constant, la constante apprise pendant l'apprentissage\n",
    "#       v, le vecteur à partir duquel on veut prédire\n",
    "# Nécessite : que l'apprentissage ait été fait, i.e. on dispose de weights et constant\n",
    "# Output : le résultat de la prédiction\n",
    "def Prediction(weights, constant, v):\n",
    "    if Sigmoid(H(weights, constant, v))>0.5:\n",
    "            return 1\n",
    "    else: \n",
    "            return 0"
   ]
  },
  {
   "cell_type": "markdown",
   "metadata": {
    "pycharm": {
     "name": "#%% md\n"
    }
   },
   "source": [
    "Généralisons ce prédicteur pour l'évaluer sur une base de vecteurs $\\vec v$"
   ]
  },
  {
   "cell_type": "code",
   "execution_count": 950,
   "metadata": {
    "pycharm": {
     "name": "#%%\n"
    }
   },
   "outputs": [],
   "source": [
    "# Input: weights, les poids appris pendant l'apprentissage\n",
    "#       constant, la constante apprise pendant l'apprentissage\n",
    "#       D, une base de données de vecteurs à partir duquel on veut prédire\n",
    "# Nécessite : que l'apprentissage ait été fait, i.e. on dispose de weights et constant\n",
    "# Output : Cpred, le vecteur des prédictions associées\n",
    "\n",
    "def PredictionsOnBase(weigths,constant,D):\n",
    "    Cpred=[]\n",
    "    for index in range(len(D)):\n",
    "        Cpred.append(Prediction(weights,constant,D[index:index+1,:]))\n",
    "    return Cpred"
   ]
  },
  {
   "cell_type": "markdown",
   "source": [
    "## Evaluation du prédicteur sur la base d'apprentissage\n",
    "\n",
    "Le code ci-dessous permet d'évaluer la qualité du prédicteur sur la base d'apprentissage, autrement dit:\n",
    "- Calcul du pourcentage de bonnes classifications,\n",
    "- Matrice de confusion : vous donnera la répartition des bonnes/mauvaises classifications."
   ],
   "metadata": {
    "collapsed": false,
    "pycharm": {
     "name": "#%% md\n"
    }
   }
  },
  {
   "cell_type": "code",
   "execution_count": 951,
   "metadata": {
    "scrolled": true,
    "pycharm": {
     "name": "#%%\n"
    }
   },
   "outputs": [
    {
     "name": "stdout",
     "output_type": "stream",
     "text": [
      "Taux de bonnes classifications :  94.8051948051948 %\n",
      "Quand il fallait prédire 1...\n",
      "94.69026548672566 % du temps le prédicteur prédit 1\n",
      "5.3097345132743365 % du temps le prédicteur prédit 0\n",
      "Quand il fallait prédire 0...\n",
      "94.91525423728814 % du temps le prédicteur prédit 0\n",
      "5.084745762711864 % du temps le prédicteur prédit 1\n"
     ]
    }
   ],
   "source": [
    "Cpred=PredictionsOnBase(weights,constant,D)\n",
    "GoodPred=0\n",
    "VraiPositifs=0\n",
    "FauxPositifs=0\n",
    "VraiNegatifs=0\n",
    "FauxNegatifs=0\n",
    "NumberPositif=0\n",
    "for index in range(len(C)):\n",
    "    if (C[index]==1): \n",
    "        NumberPositif +=1\n",
    "    if (C[index]==Cpred[index]):\n",
    "        GoodPred+=1\n",
    "    if (C[index]==1):\n",
    "        if (Cpred[index]==1):\n",
    "            VraiPositifs+=1\n",
    "        else:\n",
    "            FauxNegatifs+=1\n",
    "    if (C[index]==0):\n",
    "        if (Cpred[index]==1):\n",
    "            FauxPositifs+=1\n",
    "        else:\n",
    "            VraiNegatifs+=1\n",
    "print(\"Taux de bonnes classifications : \",100.0*GoodPred/len(C),\"%\")\n",
    "print(\"Quand il fallait prédire 1...\")\n",
    "print(100.0*VraiPositifs/NumberPositif,\"% du temps le prédicteur prédit 1\")\n",
    "print(100.0*FauxNegatifs/NumberPositif,\"% du temps le prédicteur prédit 0\")\n",
    "print(\"Quand il fallait prédire 0...\")\n",
    "print(100.0*VraiNegatifs/(len(C)-NumberPositif),\"% du temps le prédicteur prédit 0\")\n",
    "print(100.0*FauxPositifs/(len(C)-NumberPositif),\"% du temps le prédicteur prédit 1\")"
   ]
  },
  {
   "cell_type": "code",
   "execution_count": 951,
   "metadata": {
    "pycharm": {
     "name": "#%%\n"
    }
   },
   "outputs": [],
   "source": []
  }
 ],
 "metadata": {
  "kernelspec": {
   "display_name": "Python 3 (ipykernel)",
   "language": "python",
   "name": "python3"
  },
  "language_info": {
   "codemirror_mode": {
    "name": "ipython",
    "version": 3
   },
   "file_extension": ".py",
   "mimetype": "text/x-python",
   "name": "python",
   "nbconvert_exporter": "python",
   "pygments_lexer": "ipython3",
   "version": "3.10.4"
  }
 },
 "nbformat": 4,
 "nbformat_minor": 2
}