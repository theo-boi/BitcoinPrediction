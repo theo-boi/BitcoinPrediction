{
 "cells": [
  {
   "cell_type": "markdown",
   "metadata": {},
   "source": [
    "# Prédiction l'évolution du cours du Bitcoin\n",
    "\n",
    "Nous y voilà : vous allez devoir travailler maintenant pour proposer votre propre algorithme de descente pour résoudre un problème de classification tout simple. Je vous donne l'historique sur 2020 et 2021 du cours du Bitcoin et vous devez construire un prédicteur capable de détecter si le cours du Bitcoin va partir à la hausse ou à la baisse. \n",
    "\n",
    "Vous serez évaluez sur la qualité du travail réalisé et surtout sur les résultats que vous obtiendrez sur des données que vous ne connaissez pas. En fonction de vos résultats par rapport aux autres binômes vous obtiendrez plus ou moins de points. \n",
    "\n",
    "Voyons un peu plus les choses en détails.\n",
    "\n",
    "## Définition du sujet\n",
    "\n",
    "### Le cours du Bitcoin\n",
    "\n",
    "Dans les fichiers Cotations2021.csv et Cotations2020.csv vous trouverez l'évolution journalière du cours du Bitcoin en 2021 et en 2020. Ces fichiers contiennent 5 colonnes : \n",
    " - Date : jour de la cotation,\n",
    " - Ouverture : valeur en euros du cours du Bitcoin à l'ouverture du marché,\n",
    " - Plus Haut : valeur en euros la plus élevée du Bitcoin durant le jour considéré,\n",
    " - Plus Bas : valeur en euros la plus basse du Bitcoin durant le jour considéré,\n",
    " - Clôture : valeur en euros du cours du Bitcoin à la clôture du marché.\n",
    "\n",
    "La notion de \"cours du Bitcoin\" est assez vague : finalement, on se pose vraiment la question de savoir combien vaut le Bitcoin au moment où on doit en acheter ou en vendre... Pour simplifier un peu, nous considérerons que d'un jour $t$ à un jour $(t+1)$ le cours du Bitcoin augmente (diminue) si sa valeur à la clôture au jour $t$ est inférieure (supérieure) à sa valeur à la clôture au jour $(t+1)$. \n",
    "\n",
    "Autrement dit, on va regarder la colonne \"Clôture\" pour décider de l'augmentation ou la baisse du cours du Bitcoin. \n",
    "\n",
    "### Enoncé du problème de classification\n",
    "\n",
    "Le problème que vous avez à résoudre est donc un problème de classification : pour un jour $t$ donné, vous voulez prédire si à $(t+1)$ le cours va augmenter (classe 1) ou diminuer (classe 2). Le cas, marginal, ou le cours reste constant sera assimilé à la classe 2.\n",
    "\n",
    "Pour réaliser cette prédiction, vous pouvez prendre en compte l'historique du cours sur les $h$ derniers jours. Vous aurez toute liberté de définir cette notion d'historique : c'est d'ailleurs un des facteurs qui pourra influencer la qualité de votre prédicteur. Quelle valeur de $h$ considérer ? Quelle(s) donnée(s) considérer sur les jours précédents : uniquement la valeur de clôture ou ... ? \n",
    "\n",
    "### Démarche pour réaliser ce travail\n",
    "\n",
    "Déjà, vous pouvez fortement vous inspirer de ce que l'on a fait dans la première partie des Travaux Pratiques, ainsi que sur le cours (notamment, le chapitre \"Liens avec le Machine Learning\", partie sur l'exemple de la société ERAM). \n",
    "\n",
    "Au niveau démarche, c'est toujours la même chose : \n",
    "1. Définir la notion d'historique : quel vecteur de données allez vous prendre en compte pour l'apprentissage et la prédiction ensuite ? Notons $\\vec v$ ce vecteur.\n",
    "1. Définir le problème d'optimisation à résoudre (fonction $H(\\vec v)$ de séparation des données, fonction d'activation (sigmoide), fonction de perte/erreur),\n",
    "2. Définir le gradient,\n",
    "3. Créer votre algorithme de descente,\n",
    "\n",
    "Pour ce dernier point, vous pourrez faire appel à toutes les techniques/éléments vus dans le chapitre \"Optimisation continue sans contraintes\" quand nous avons parlé des algorithmes de descente.\n",
    "\n",
    "En plus du code Python ci-dessus, il faudra produire du code de traitement des données et du code pour que je puisse mettre en oeuvre l'évaluation de votre projet."
   ]
  },
  {
   "cell_type": "markdown",
   "metadata": {},
   "source": [
    "## Développement de votre algorithme de descente\n",
    "\n",
    "### Outils conseillés\n",
    "- La bibliothèque [pandas](https://pandas.pydata.org/docs/user_guide/index.html) est idéale pour l'utilisation d'une base de donnée.\n",
    "- La bibliothèque [numpy](https://numpy.org/doc/1.18/user/index.html) est parfaite pour tout calcul sur des vecteurs.\n",
    "- La bibliothèque [matplotlib](https://matplotlib.org/contents.html) est la base pour visualiser des résultats mais accouplé à [seaborn](https://seaborn.pydata.org/index.html) il est possible d'aller plus vite.\n",
    "- Le bibliothèque [math](https://docs.python.org/fr/3.9/library/math.html) est souvent oubliée tellement elle semble évidente."
   ]
  },
  {
   "cell_type": "code",
   "execution_count": 629,
   "metadata": {},
   "outputs": [],
   "source": [
    "import pandas as pd\n",
    "import numpy as np\n",
    "import matplotlib.pyplot as plt\n",
    "import seaborn as sb\n",
    "import math\n",
    "import random as rd"
   ]
  },
  {
   "cell_type": "markdown",
   "metadata": {},
   "source": [
    "### Lecture des données\n",
    "\n",
    "La première tâche à réaliser va être de développer une fonction qui va lire un fichhier .csv contenant un historique de cotations et créer une base panda. La structure $RawData$ va contenir les données telles que contenues dans le fichier .csv passé en paramètre (selon la syntaxe décrite précédemment). De même, $RawC$ va contenir l'appartenance aux classes 1 (diminution) / 0 (augmentation).\n",
    "\n",
    "Vous utiliserez les structures $RawData$ et $RawC$ comme vous le souhaiterez par la suite dans vos algorithmes : par contre, ces structures sont à considérer comme des données d'entrée dans toute la suite des TPs.\n",
    "\n",
    "Autrement dit, pour évaluer vos algorithmes je serais amené à leur donner de nouveaux $RawData$ et $RawC$ contenant des données que vous ne connaissez pas. "
   ]
  },
  {
   "cell_type": "code",
   "execution_count": 630,
   "metadata": {},
   "outputs": [],
   "source": [
    "#Input: nom du fichier .csv à lire.\n",
    "#Nécessite :les lignes du fichier sont classées par dates de cotatation croissantes et les colonnées séparées par \";\"\n",
    "#Output: RawData, contient l'historique des cotations telles que lues dans le .csv\n",
    "#        RawC, contient pour chaque ligne/date t (sauf la dernière) 1 si le cours baisse à t+1; 0 sinon.\n",
    "def LireDonnees(NomFichier):\n",
    "    #Lecture des données dans le fichier csv\n",
    "    RawData=pd.read_csv(NomFichier, sep=';')\n",
    "    \n",
    "    #Construction des classes d'appartenance de chaque ligne de la base: on suppose que les cotations journalières sont\n",
    "    #classées par ordre chronologique\n",
    "    RawC=[]\n",
    "    for index in range(len(RawData)-1):\n",
    "        value=RawData.iloc[index,4] > RawData.iloc[index+1,4]\n",
    "        value=1*value\n",
    "        RawC.append(value)\n",
    "    return RawData, RawC\n",
    "    "
   ]
  },
  {
   "cell_type": "markdown",
   "metadata": {},
   "source": [
    "### Définition des données utilisées pour l'apprentissage/prédiction\n",
    "\n",
    "Nous allons maintenant définir une méthode qui va préparer une structure de données, nommée $data$, qui va contenir pour chaque ligne un couple :\n",
    "\n",
    "$\\vec v=(\\vec x ; c_x)$\n",
    "\n",
    "où $\\vec x$ est le vecteur caractérisant la ligne en cours. Prenons un exemple, que vous adapterez comme vous le souhaitez par la suite. Je décide que pour la ligne $t$, date de cotation $t$, ce qui explique la prédiction $c$ (baisse/augmentation de la valeur de la cotation à $t+1$) c'est le cours du Bitcoin à la clôture sur les $h=3$ derniers jours. Donc, la ligne d'indice 0 dans $data$ va contenir :\n",
    "\n",
    "$(x_1,x_2,x_3, c_x=0$ ou $1)$ \n",
    "\n",
    "avec $x_j$ la valeur de cotation à la clôture le jour $j$.\n",
    "\n",
    "Créez la fonction CreerData ci-dessous pour avoir par la suite des données plus faciles à manipuler grâce à numpy."
   ]
  },
  {
   "cell_type": "code",
   "execution_count": 631,
   "metadata": {},
   "outputs": [],
   "source": [
    "def EquilibrerData(RawData,RawC):\n",
    "    RawDataEquilibre = RawData.copy()\n",
    "    RawCEquilibre = RawC.copy()\n",
    "\n",
    "    Cdf = pd.DataFrame(RawC)\n",
    "    zero = Cdf.loc[Cdf[0] == 0]\n",
    "    un = Cdf.loc[Cdf[0] == 1]\n",
    "\n",
    "    indexASupprimer = []\n",
    "    if len(zero) > len(un):\n",
    "        indexASupprimer = zero.sample(n=len(zero.index) - len(un.index)).index.tolist()\n",
    "    if len(un) > len(zero):\n",
    "        indexASupprimer = un.sample(n=len(un.index) - len(zero.index)).index.tolist()\n",
    "\n",
    "    if indexASupprimer != []:\n",
    "        indexASupprimer.sort()\n",
    "        RawDataEquilibre.drop(index=indexASupprimer, inplace=True)\n",
    "        RawDataEquilibre.reset_index(drop=True, inplace=True)\n",
    "        for iterateur in range(len(indexASupprimer)):\n",
    "            RawCEquilibre.pop(indexASupprimer[iterateur] - iterateur)\n",
    "\n",
    "    return RawDataEquilibre, RawCEquilibre"
   ]
  },
  {
   "cell_type": "code",
   "execution_count": 632,
   "outputs": [],
   "source": [
    "#Input: RawData et RawC ont été créés à partir d'un fichier .csv\n",
    "#Output: D, contient les points $(\\vec x)$. Cela doit être une matrice numpy\n",
    "#        C, contient la classe d'appartenance $c_x$ de chaque entrée dans data. Cela doit être un vecteur numpy\n",
    "def CreerData(RawData,RawC):\n",
    "    (RawDataEquilibre,RawCEquilibre) = EquilibrerData(RawData,RawC)\n",
    "\n",
    "    h = 6\n",
    "    pas = 3\n",
    "    variables = (\"Ouverture\", \"Plus Haut\", \"Plus Bas\", \"Cloture\") # On sélectionne les variables désirées\n",
    "    std = RawDataEquilibre.std(axis=1,numeric_only=True)\n",
    "    moy = RawDataEquilibre.mean(axis=1,numeric_only=True)\n",
    "\n",
    "    nbDates = len(RawDataEquilibre.index) - h*pas\n",
    "    D = np.empty((nbDates, h*len(variables)))\n",
    "    for t in range(nbDates): # On va instancier chaque vecteur x\n",
    "        for p in range(h): # En ecrivant le point x_(t+p)\n",
    "            for pVar in range(len(variables)): # et pour chacun, chacune de ses variables\n",
    "                D[t][pVar + p*len(variables)] = (RawDataEquilibre[variables[pVar]][t+p*pas] - moy[t+p*pas]) / std[t+p*pas]\n",
    "    if -h*(pas-1) != 0 :\n",
    "        C = np.array(RawCEquilibre)[h-1:-h*(pas-1)]\n",
    "    else:\n",
    "        C = np.array(RawCEquilibre)[h-1:]\n",
    "\n",
    "    return(D,C)\n",
    "\n",
    "(RawData,RawC)=LireDonnees(\"Cotations2021.csv\")\n",
    "(D,C)=CreerData(RawData,RawC)\n",
    "#print(D)"
   ],
   "metadata": {
    "collapsed": false,
    "pycharm": {
     "name": "#%%\n"
    }
   }
  },
  {
   "cell_type": "markdown",
   "metadata": {},
   "source": [
    "### Définition du problème d'optimisation à résoudre\n",
    "\n",
    "On a choisit\n",
    "$\\vec v=(\\vec x ; c_x) \\in R ^{ h \\times 4 }, \\ avec \\ \\vec x=(y_1, y_2, y_3, y_4), \\ \\vec y$ étant l'ensemble des valeurs des variables sélectionnées\n",
    "\n",
    "$H(\\vec v) = \\displaystyle\\sum_{i=1}^{h} \\vec w_i \\cdot \\vec x_i + b, \\ avec \\ h = 3 \\ et \\ \\forall i \\in \\{1..h\\}, \\ \\vec w_i \\in R^4$\n",
    "\n",
    "D'où $H(\\vec v) = \\vec w_1 \\cdot \\vec x_1 + \\vec w_2 \\cdot \\vec x_2 + \\vec w_3 \\cdot \\vec x_3 + b$\n",
    "\n",
    "On va utiliser la fonction logistique sigmoide pour transformer les valeurs de $H(\\vec v)$ en valeurs $0$ ou $1$:\n",
    "\n",
    "$\\mathcal{S}: x \\mapsto \\frac{1}{1+\\exp^{-\\lambda x}}$.\n",
    "\n",
    "Notre classificateur est donc : $\\mathcal{S}(H(\\vec v))$.\n",
    "\n",
    "Pour notre problème, on cherche à apprendre sur la base d'apprentissage les valeurs de $\\vec w_i \\ \\forall i \\in \\{1..h\\}$ et $b$.\n",
    "\n",
    "On choisit la cross-entropy pour mesurer l'erreur de notre problème, c'est à dire la distance entre $\\mathcal{S}(H(\\vec v))$ et $c_{\\vec v}$ :\n",
    "\n",
    "$E(\\mathcal{P}) = \\sum \\limits_{\\vec v \\in \\mathcal{P}}-(c_{\\vec v}\\log_2(\\mathcal{S}(H(\\vec v)))+(1-c_{\\vec v})\\log_2(1-\\mathcal{S}(H(\\vec v))))$.\n",
    "\n",
    "$\\mathcal{P} : \\Bigg\\{$\n",
    "$\\  Minimiser \\ E(P)$\n",
    "$\\ \\ s.c.$\n",
    "$\\ \\ \\vec w_i \\in R^4 \\ et \\ b \\in R$\n",
    "$\\Bigg\\}$\n",
    "\n",
    "Commençons par définir le code qui calcule $H(\\vec v)$ puis le code de la fonction logistique sigmoid $\\cal{S}(x)$. Je suppose que vous allez reprendre les mêmes fonctions que dans le TP introductif, mais si vous voulez changer vous pouvez, bien sûr ! "
   ]
  },
  {
   "cell_type": "code",
   "execution_count": 633,
   "metadata": {},
   "outputs": [],
   "source": [
    "# définition de la méthode pour calculer H(v)\n",
    "def H(weights, constant, point):\n",
    "    value=np.sum(weights*point)+constant\n",
    "    #print(value)\n",
    "    return value"
   ]
  },
  {
   "cell_type": "markdown",
   "metadata": {},
   "source": [
    "Définissons maintenant le code qui calcule $\\mathcal{S}(x)$."
   ]
  },
  {
   "cell_type": "code",
   "execution_count": 634,
   "metadata": {},
   "outputs": [],
   "source": [
    "# définition de la fonction sigmoide (logistique) et la fonction d'arrondie\n",
    "def Sigmoid(x, lamda=0.01):\n",
    "        return 1/(1+np.exp(-lamda*x))\n",
    "\n",
    "\n",
    "def Step_function(x):\n",
    "        return 1*(x>=0)"
   ]
  },
  {
   "cell_type": "markdown",
   "metadata": {},
   "source": [
    "Passons maintenant à la définition de la fonction d'erreur $E(\\mathcal{P})$, qui est notre fonction à minimiser, ainsi que du gradient. Je vous laisse les définir !"
   ]
  },
  {
   "cell_type": "code",
   "execution_count": 635,
   "metadata": {},
   "outputs": [],
   "source": [
    "# définition de la méthode pour calculer l'erreur \n",
    "#Input : weights, le vecteur de poids utilisés dans la fonction H,\n",
    "#        constant, la constante utilisée dans la fonction H\n",
    "#Output : une valeur numérique, l'erreur commise. \n",
    "def Loss_function(weights, constant):\n",
    "    loss_value = 0\n",
    "    for index in range(len(D)):\n",
    "        p = D[index:index+1,:]\n",
    "        c = C[index]\n",
    "        #print(Sigmoid(H(weights, constant, p)))\n",
    "        loss_value -= c*np.log2(Sigmoid(H(weights, constant, p)))+(1-c)*np.log2(1-Sigmoid(H(weights, constant, p)))\n",
    "    return loss_value"
   ]
  },
  {
   "cell_type": "code",
   "execution_count": 636,
   "metadata": {},
   "outputs": [],
   "source": [
    "# définition du calcul de gradient\n",
    "#Input : weights, le vecteur de poids utilisés dans la fonction H,\n",
    "#        constant, la constante utilisée dans la fonction H\n",
    "#Output : le gradient, un numpy array\n",
    "def Gradient(weights, constant):\n",
    "    grad = []\n",
    "    # Looping over all variables (number of variables=number of weights)\n",
    "    for w in range(len(weights)):\n",
    "        coord_value=0\n",
    "        for index in range(len(D)):\n",
    "            x=D[index:index+1,:]\n",
    "            coord_value-= x[0,w]*(C[index]-Sigmoid(H(weights, constant, x)))\n",
    "        grad.append(coord_value)\n",
    "    coord_value=0\n",
    "    # Considering the last component=constant\n",
    "    for index in range(len(D)):\n",
    "        x=D[index:index+1,:]\n",
    "        coord_value-= (C[index]-Sigmoid(H(weights, constant, x)))\n",
    "    grad.append(coord_value)\n",
    "    return np.array(grad)"
   ]
  },
  {
   "cell_type": "markdown",
   "metadata": {},
   "source": [
    "### Algorithme de descente\n",
    "\n",
    "<<Expliquer ici quels sont les caractéristiques/paramètres de votre algorithme de descente>>\n",
    "\n",
    "<<Justifiez les choix retenus et les choix testés>>\n",
    "\n",
    "Note: lorsque vous coderez votre algorithme de gradient, il faut que celui-ci affiche dans un graphique l'évolution de la valeur de la fonction d'erreur/loss et l'évolution de la norme du gradient.\n"
   ]
  },
  {
   "cell_type": "code",
   "execution_count": 637,
   "metadata": {},
   "outputs": [],
   "source": [
    "# Votre algorithme de gradient qui va travailler à partir des structures numpy D et C\n",
    "# Input :\n",
    "# Nécessite :\n",
    "# Output : weights, un numpy array contenant les poids utilisés dans la fonction de séparation H \n",
    "#          constant, un numérique contenant la constante utilisée dans la fonction de séparation H\n",
    "#          nbstep, nombre d'itérations mises par l'algorithme avant de s'arrêter\n",
    "\n",
    "# ATTENTION: j'ai laissé dans l'algorithme vide ci-dessous des lignes de code permettant l'affichage de la fonction de perte/loss\n",
    "#            et la norme du gradient. Gardez ce code qui vous aidera à voir si votre algorithme converge ou pas.\n",
    "\n",
    "def Algorithme_Gradient():\n",
    "    \n",
    "   #Initialisations pour les graphiques terminaux: à conserver\n",
    "    ## Produire deux graphes cote à cote 2 subplots\n",
    "    fig, ax = plt.subplots(figsize=(10, 5) , nrows=1, ncols=1)\n",
    "    ## Pour visualiser les evolutions en fonction du step\n",
    "    itersteps = []\n",
    "    ## Pour visualiser l'evolution de la norme du gradient\n",
    "    iterGap = []\n",
    "    ## Pour visualiser l'évolution de l'erreur\n",
    "    iterError = []\n",
    "    ## Pour visualiser la séparation linéaire\n",
    "    #line_X = np.array([min(data[\"x\"]), max(data[\"x\"])])\n",
    "    \n",
    "    #Initialisation de l'algorithme du gradient \n",
    "    ## initialiser les poids et la constante\n",
    "    weights = np.random.random(np.shape(D)[1])\n",
    "    constant = rd.random()\n",
    "    ## initialiser le learning rate\n",
    "    learning_rate = 0.1\n",
    "    #Initialisation du pas\n",
    "    nbstep = 900\n",
    "    step = 1 # numéro d'itération dans l'algorithme\n",
    "\n",
    "    # Exécution de l'algorithme de gradient\n",
    "    while step < nbstep:\n",
    "\n",
    "        \n",
    "        # Calcul de la fonction de perte/erreur\n",
    "        E = Loss_function(weights,constant)\n",
    "\n",
    "        # Calcul du gradient et de sa norme\n",
    "        total_grad = Gradient(weights,constant)\n",
    "\n",
    "        if step == 1 or step == nbstep/2:\n",
    "            #print(\"weights : \", weights)\n",
    "            #print(\"constant : \", constant)\n",
    "            print(\"total_grad : \", total_grad)\n",
    "            print(C[0], \"Sigmoid : \", Sigmoid(H(weights, constant, D[0:1,:])))\n",
    "            print(C[1], \"Sigmoid : \", Sigmoid(H(weights, constant, D[1:2,:])))\n",
    "            #print(\"H : \", H(weights, constant, D[0:1,:]))\n",
    "            print()\n",
    "\n",
    "        norm = np.linalg.norm(total_grad)\n",
    "        # Mise à jour des poids et de la constante\n",
    "        weights-=(learning_rate*total_grad[:-1])/norm\n",
    "        constant-=learning_rate*total_grad[-1]/norm\n",
    "\n",
    "        # Stockage de valeurs à cette itération pour affichage final\n",
    "        itersteps.append(step - 1)\n",
    "        iterGap.append(norm)\n",
    "        iterError.append(E)\n",
    "            \n",
    "        step += 1\n",
    "\n",
    "    #print(\"weights : \", weights)\n",
    "    #print(\"constant : \", constant)\n",
    "    print(\"total_grad : \", total_grad)\n",
    "    print(C[0], \"Sigmoid : \", Sigmoid(H(weights, constant, D[0:1,:])))\n",
    "    print(C[1], \"Sigmoid : \", Sigmoid(H(weights, constant, D[1:2,:])))\n",
    "    #print(\"H : \", H(weights, constant, D[0:1,:]))\n",
    "    print()\n",
    "\n",
    "    # Affichage final : à conserver\n",
    "    ax.plot(itersteps,iterGap, label='Norme du gradient')\n",
    "    ax.plot(itersteps,iterError, label='Erreur')\n",
    "    ax.set_xlabel('step')\n",
    "    ax.legend()\n",
    "    plt.show()\n",
    "    \n",
    "    return(weights,constant,nbstep)\n"
   ]
  },
  {
   "cell_type": "markdown",
   "metadata": {},
   "source": [
    "## Phase d'apprentissage \n",
    "\n",
    "Allez, on se lance ! Exécutez votre algorithme d'apprentissage pour voir ce qu'il donne. Je vous met ci-dessous un code générique que vous pouvez légèrement adapter. Néanmoins, faîtes bien attention que : \n",
    "* La fonction LireDonnees() doit être appelée pour lire des données brutes dans un fichier .csv qui est votre base d'apprentissage,\n",
    "* La fonction CréerData() doit être appelée pour créer les structures $D$ et $C$ qui sont utilisées par votre algorithme de gradient,\n",
    "* Aprés vous appelez l'algorithme de gradient que vous avez vous-même définis."
   ]
  },
  {
   "cell_type": "code",
   "execution_count": 638,
   "metadata": {
    "pycharm": {
     "name": "#%%\n"
    }
   },
   "outputs": [
    {
     "name": "stdout",
     "output_type": "stream",
     "text": [
      "total_grad :  [  2.71882728   0.08738913   1.61194507  -4.41816148   4.74178689\n",
      "  -1.8634881    0.08450284  -2.96280163 -35.96080619   0.22676673\n",
      "   2.01951685  33.7145226   -0.08878577  -0.2626394   -0.18286733\n",
      "   0.53429249  -2.71667581  -0.88825458   1.27671124   2.32821915\n",
      "  -1.70246244   0.07054056   1.29027992   0.34164196  -0.58794713]\n",
      "1 Sigmoid :  0.506376002971998\n",
      "1 Sigmoid :  0.5050838589164777\n",
      "\n",
      "total_grad :  [-0.85477154  0.32367961  0.72598638 -0.19489444  0.60526742 -0.79569311\n",
      "  0.57437218 -0.38394649 -2.92819003  0.12274012 -1.46825223  4.27370213\n",
      " -0.10034578 -0.08299618  0.32945141 -0.14610945 -0.09839094 -1.4458427\n",
      " -0.75046378  2.29469741 -0.08912632  0.10693443  0.19348721 -0.21129532\n",
      " -0.12866467]\n",
      "1 Sigmoid :  0.6475558186237909\n",
      "1 Sigmoid :  0.7446955958111079\n",
      "\n",
      "total_grad :  [-0.06042379  0.05220958  0.10059719 -0.09238298  0.10681228 -0.5280729\n",
      "  0.46075342 -0.03949281 -0.05090762  0.60555055 -0.978754    0.42411108\n",
      " -0.12328222  0.03708918  0.27378951 -0.18759647  0.2314741  -0.49285217\n",
      " -0.08193321  0.34331128  0.00817804  0.04143195  0.02951679 -0.07912678\n",
      " -0.06640827]\n",
      "1 Sigmoid :  0.5344967987368574\n",
      "1 Sigmoid :  0.817987666702986\n",
      "\n"
     ]
    },
    {
     "data": {
      "text/plain": "<Figure size 720x360 with 1 Axes>",
      "image/png": "[encoded data removed]"
     },
     "metadata": {
      "needs_background": "light"
     },
     "output_type": "display_data"
    }
   ],
   "source": [
    "(RawData,RawC)=LireDonnees(\"Cotations2020.csv\")\n",
    "(D,C)=CreerData(RawData,RawC)\n",
    "(weights,constant, nbstep)=Algorithme_Gradient()"
   ]
  },
  {
   "cell_type": "markdown",
   "metadata": {},
   "source": [
    "## Construction du prédicteur\n",
    "\n",
    "Il faut maintenant construire votre prédicteur : je vous propose le code suivant."
   ]
  },
  {
   "cell_type": "code",
   "execution_count": 639,
   "metadata": {},
   "outputs": [],
   "source": [
    "# Input: weights, les poids appris pendant l'apprentissage\n",
    "#       constant, la constante apprise pendant l'apprentissage\n",
    "#       v, le vecteur à partir duquel on veut prédire\n",
    "# Nécessite : que l'apprentissage ait été fait, i.e. on dispose de weights et constant\n",
    "# Output : le résultat de la prédiction\n",
    "def Prediction(weights, constant, v):\n",
    "    if Sigmoid(H(weights, constant, v))>0.5:\n",
    "            return 1\n",
    "    else: \n",
    "            return 0"
   ]
  },
  {
   "cell_type": "markdown",
   "metadata": {},
   "source": [
    "Généralisons un peu ce prédicteur pour l'évaluer sur une base de vecteurs $\\vec v$"
   ]
  },
  {
   "cell_type": "code",
   "execution_count": 640,
   "metadata": {},
   "outputs": [],
   "source": [
    "# Input: weights, les poids appris pendant l'apprentissage\n",
    "#       constant, la constante apprise pendant l'apprentissage\n",
    "#       D, une base de données de vecteurs à partir duquel on veut prédire\n",
    "# Nécessite : que l'apprentissage ait été fait, i.e. on dispose de weights et constant\n",
    "# Output : Cpred, le vecteur des prédictions associées\n",
    "\n",
    "def PredictionsOnBase(weigths,constant,D):\n",
    "    Cpred=[]\n",
    "    for index in range(len(D)):\n",
    "        Cpred.append(Prediction(weights,constant,D[index:index+1,:]))\n",
    "    return Cpred"
   ]
  },
  {
   "cell_type": "markdown",
   "metadata": {},
   "source": [
    "## Evaluation du prédicteur sur la base d'apprentissage\n",
    "\n",
    "Le code ci-dessous va vous permettre d'évaluer la qualité de votre prédicteur sur la base d'apprentissage, autrement dit:\n",
    "- Calcul du pourcentage de bonnes classifications,\n",
    "- Matrice de confusion : vous donnera la répartition des bonnes/mauvaises classifications."
   ]
  },
  {
   "cell_type": "code",
   "execution_count": 641,
   "metadata": {
    "scrolled": true
   },
   "outputs": [
    {
     "name": "stdout",
     "output_type": "stream",
     "text": [
      "Taux de bonnes classifications :  86.91099476439791 %\n",
      "Quand il fallait prédire 1...\n",
      "84.5360824742268 % du temps le prédicteur prédit 1\n",
      "15.463917525773196 % du temps le prédicteur prédit 0\n",
      "Quand il fallait prédire 0...\n",
      "89.36170212765957 % du temps le prédicteur prédit 0\n",
      "10.638297872340425 % du temps le prédicteur prédit 1\n"
     ]
    }
   ],
   "source": [
    "# Pour exécuter ce code vous devez avoir au préalable exécuté l'apprentissage => on doit disposer des weights et constant\n",
    "\n",
    "Cpred=PredictionsOnBase(weights,constant,D)\n",
    "GoodPred=0\n",
    "VraiPositifs=0\n",
    "FauxPositifs=0\n",
    "VraiNegatifs=0\n",
    "FauxNegatifs=0\n",
    "NumberPositif=0\n",
    "for index in range(len(C)):\n",
    "    if (C[index]==1): \n",
    "        NumberPositif +=1\n",
    "    if (C[index]==Cpred[index]):\n",
    "        GoodPred+=1\n",
    "    if (C[index]==1):\n",
    "        if (Cpred[index]==1):\n",
    "            VraiPositifs+=1\n",
    "        else:\n",
    "            FauxNegatifs+=1\n",
    "    if (C[index]==0):\n",
    "        if (Cpred[index]==1):\n",
    "            FauxPositifs+=1\n",
    "        else:\n",
    "            VraiNegatifs+=1\n",
    "print(\"Taux de bonnes classifications : \",100.0*GoodPred/len(C),\"%\")\n",
    "print(\"Quand il fallait prédire 1...\")\n",
    "print(100.0*VraiPositifs/NumberPositif,\"% du temps le prédicteur prédit 1\")\n",
    "print(100.0*FauxNegatifs/NumberPositif,\"% du temps le prédicteur prédit 0\")\n",
    "print(\"Quand il fallait prédire 0...\")\n",
    "print(100.0*VraiNegatifs/(len(C)-NumberPositif),\"% du temps le prédicteur prédit 0\")\n",
    "print(100.0*FauxPositifs/(len(C)-NumberPositif),\"% du temps le prédicteur prédit 1\")"
   ]
  },
  {
   "cell_type": "code",
   "execution_count": 641,
   "metadata": {},
   "outputs": [],
   "source": []
  }
 ],
 "metadata": {
  "kernelspec": {
   "display_name": "Python 3 (ipykernel)",
   "language": "python",
   "name": "python3"
  },
  "language_info": {
   "codemirror_mode": {
    "name": "ipython",
    "version": 3
   },
   "file_extension": ".py",
   "mimetype": "text/x-python",
   "name": "python",
   "nbconvert_exporter": "python",
   "pygments_lexer": "ipython3",
   "version": "3.10.4"
  }
 },
 "nbformat": 4,
 "nbformat_minor": 2
}